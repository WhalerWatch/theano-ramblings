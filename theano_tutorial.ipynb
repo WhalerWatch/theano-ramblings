{
 "cells": [
  {
   "cell_type": "code",
   "execution_count": 1,
   "metadata": {
    "collapsed": true
   },
   "outputs": [],
   "source": [
    "%matplotlib inline\n",
    "%config InlineBackend.figure_format = 'retina'"
   ]
  },
  {
   "cell_type": "code",
   "execution_count": 2,
   "metadata": {
    "collapsed": true
   },
   "outputs": [],
   "source": [
    "from __future__ import division"
   ]
  },
  {
   "cell_type": "markdown",
   "metadata": {},
   "source": [
    "Some examples and notes on getting started in Theano, loosely following the official [tutorial](http://deeplearning.net/tutorial/)."
   ]
  },
  {
   "cell_type": "code",
   "execution_count": 3,
   "metadata": {
    "collapsed": true
   },
   "outputs": [],
   "source": [
    "import theano\n",
    "import theano.tensor as T\n",
    "from theano import function"
   ]
  },
  {
   "cell_type": "code",
   "execution_count": 4,
   "metadata": {
    "collapsed": true
   },
   "outputs": [],
   "source": [
    "x = T.dscalar('x')\n",
    "y = T.dscalar('y')\n",
    "z = x + y\n",
    "f = function([x, y], z)"
   ]
  },
  {
   "cell_type": "code",
   "execution_count": 5,
   "metadata": {
    "collapsed": false
   },
   "outputs": [
    {
     "data": {
      "text/plain": [
       "array(5.0)"
      ]
     },
     "execution_count": 5,
     "metadata": {},
     "output_type": "execute_result"
    }
   ],
   "source": [
    "f(2,3)"
   ]
  },
  {
   "cell_type": "code",
   "execution_count": 6,
   "metadata": {
    "collapsed": false
   },
   "outputs": [
    {
     "data": {
      "text/plain": [
       "theano.tensor.var.TensorVariable"
      ]
     },
     "execution_count": 6,
     "metadata": {},
     "output_type": "execute_result"
    }
   ],
   "source": [
    "type(x)"
   ]
  },
  {
   "cell_type": "code",
   "execution_count": 7,
   "metadata": {
    "collapsed": false
   },
   "outputs": [
    {
     "data": {
      "text/plain": [
       "TensorType(float64, scalar)"
      ]
     },
     "execution_count": 7,
     "metadata": {},
     "output_type": "execute_result"
    }
   ],
   "source": [
    "x.type"
   ]
  },
  {
   "cell_type": "code",
   "execution_count": 8,
   "metadata": {
    "collapsed": true
   },
   "outputs": [],
   "source": [
    "from theano import pp"
   ]
  },
  {
   "cell_type": "code",
   "execution_count": 9,
   "metadata": {
    "collapsed": false
   },
   "outputs": [
    {
     "data": {
      "text/plain": [
       "'(x + y)'"
      ]
     },
     "execution_count": 9,
     "metadata": {},
     "output_type": "execute_result"
    }
   ],
   "source": [
    "pp(z)"
   ]
  },
  {
   "cell_type": "code",
   "execution_count": 10,
   "metadata": {
    "collapsed": true
   },
   "outputs": [],
   "source": [
    "x = T.dmatrix('x')\n",
    "y = T.dmatrix('y')\n",
    "z = x + y\n",
    "f = function([x, y], z)"
   ]
  },
  {
   "cell_type": "code",
   "execution_count": 11,
   "metadata": {
    "collapsed": true
   },
   "outputs": [],
   "source": [
    "import numpy as np"
   ]
  },
  {
   "cell_type": "code",
   "execution_count": 12,
   "metadata": {
    "collapsed": false
   },
   "outputs": [
    {
     "data": {
      "text/plain": [
       "array([[ 2.,  4.],\n",
       "       [ 6.,  8.]])"
      ]
     },
     "execution_count": 12,
     "metadata": {},
     "output_type": "execute_result"
    }
   ],
   "source": [
    "f(np.array([[1,2],[3,4]]), np.array([[1,2],[3,4]]))"
   ]
  },
  {
   "cell_type": "markdown",
   "metadata": {},
   "source": [
    "### Logistic function"
   ]
  },
  {
   "cell_type": "code",
   "execution_count": 13,
   "metadata": {
    "collapsed": false
   },
   "outputs": [
    {
     "data": {
      "text/plain": [
       "array([[ 0.5       ,  0.73105858],\n",
       "       [ 0.26894142,  0.11920292]])"
      ]
     },
     "execution_count": 13,
     "metadata": {},
     "output_type": "execute_result"
    }
   ],
   "source": [
    "x = T.dmatrix('x')\n",
    "s = 1 / (1 + T.exp(-x))\n",
    "logistic = function([x], s)\n",
    "logistic([[0, 1], [-1, -2]])"
   ]
  },
  {
   "cell_type": "markdown",
   "metadata": {},
   "source": [
    "### Default arguments"
   ]
  },
  {
   "cell_type": "code",
   "execution_count": 14,
   "metadata": {
    "collapsed": true
   },
   "outputs": [],
   "source": [
    "from theano import Param"
   ]
  },
  {
   "cell_type": "code",
   "execution_count": 15,
   "metadata": {
    "collapsed": true
   },
   "outputs": [],
   "source": [
    "x, y = T.dscalars('x', 'y')\n",
    "z = x + y\n",
    "f = function([x, Param(y, default=1)], z)"
   ]
  },
  {
   "cell_type": "code",
   "execution_count": 16,
   "metadata": {
    "collapsed": false
   },
   "outputs": [
    {
     "data": {
      "text/plain": [
       "array(34.0)"
      ]
     },
     "execution_count": 16,
     "metadata": {},
     "output_type": "execute_result"
    }
   ],
   "source": [
    "f(33)"
   ]
  },
  {
   "cell_type": "markdown",
   "metadata": {},
   "source": [
    "### Shared variables"
   ]
  },
  {
   "cell_type": "code",
   "execution_count": 17,
   "metadata": {
    "collapsed": true
   },
   "outputs": [],
   "source": [
    "from theano import shared"
   ]
  },
  {
   "cell_type": "code",
   "execution_count": 18,
   "metadata": {
    "collapsed": false
   },
   "outputs": [],
   "source": [
    "state = shared(0)\n",
    "inc = T.iscalar('inc')\n",
    "accumulator = function([inc], state, updates=[(state, state+inc)])"
   ]
  },
  {
   "cell_type": "code",
   "execution_count": 19,
   "metadata": {
    "collapsed": true
   },
   "outputs": [],
   "source": [
    "state.set_value(0)"
   ]
  },
  {
   "cell_type": "code",
   "execution_count": 20,
   "metadata": {
    "collapsed": false
   },
   "outputs": [
    {
     "data": {
      "text/plain": [
       "array(0)"
      ]
     },
     "execution_count": 20,
     "metadata": {},
     "output_type": "execute_result"
    }
   ],
   "source": [
    "accumulator(1)"
   ]
  },
  {
   "cell_type": "code",
   "execution_count": 21,
   "metadata": {
    "collapsed": false
   },
   "outputs": [],
   "source": [
    "decrementor = function([inc], state, updates=[(state, state-inc)])"
   ]
  },
  {
   "cell_type": "code",
   "execution_count": 22,
   "metadata": {
    "collapsed": false
   },
   "outputs": [
    {
     "data": {
      "text/plain": [
       "array(1)"
      ]
     },
     "execution_count": 22,
     "metadata": {},
     "output_type": "execute_result"
    }
   ],
   "source": [
    "decrementor(1)"
   ]
  },
  {
   "cell_type": "code",
   "execution_count": 23,
   "metadata": {
    "collapsed": false
   },
   "outputs": [],
   "source": [
    "# demonstrate use of `givens`\n",
    "identity = function([inc], state, givens=[(state, inc)])"
   ]
  },
  {
   "cell_type": "code",
   "execution_count": 24,
   "metadata": {
    "collapsed": false
   },
   "outputs": [
    {
     "data": {
      "text/plain": [
       "array(5, dtype=int32)"
      ]
     },
     "execution_count": 24,
     "metadata": {},
     "output_type": "execute_result"
    }
   ],
   "source": [
    "identity(5)"
   ]
  },
  {
   "cell_type": "code",
   "execution_count": 25,
   "metadata": {
    "collapsed": true
   },
   "outputs": [],
   "source": [
    "add1 = function([], state, updates=[(state, state+1)])"
   ]
  },
  {
   "cell_type": "code",
   "execution_count": 26,
   "metadata": {
    "collapsed": false
   },
   "outputs": [
    {
     "data": {
      "text/plain": [
       "array(0)"
      ]
     },
     "execution_count": 26,
     "metadata": {},
     "output_type": "execute_result"
    }
   ],
   "source": [
    "add1()"
   ]
  },
  {
   "cell_type": "markdown",
   "metadata": {},
   "source": [
    "### Random numbers"
   ]
  },
  {
   "cell_type": "code",
   "execution_count": 27,
   "metadata": {
    "collapsed": true
   },
   "outputs": [],
   "source": [
    "from theano.tensor.shared_randomstreams import RandomStreams"
   ]
  },
  {
   "cell_type": "code",
   "execution_count": 28,
   "metadata": {
    "collapsed": true
   },
   "outputs": [],
   "source": [
    "srng = RandomStreams(seed=123)\n",
    "rv_u = srng.uniform((2,2))\n",
    "rv_n = srng.normal((2,2))\n",
    "f = function([], rv_u)\n",
    "g = function([], rv_n, no_default_updates=True)\n",
    "nearly_zeros = function([], rv_u + rv_u - 2 * rv_u)"
   ]
  },
  {
   "cell_type": "code",
   "execution_count": 29,
   "metadata": {
    "collapsed": false
   },
   "outputs": [
    {
     "data": {
      "text/plain": [
       "array([[ 0.72803009,  0.59044123],\n",
       "       [ 0.23715077,  0.69958932]])"
      ]
     },
     "execution_count": 29,
     "metadata": {},
     "output_type": "execute_result"
    }
   ],
   "source": [
    "f()"
   ]
  },
  {
   "cell_type": "code",
   "execution_count": 30,
   "metadata": {
    "collapsed": false
   },
   "outputs": [
    {
     "data": {
      "text/plain": [
       "array([[ 0.,  0.],\n",
       "       [ 0.,  0.]])"
      ]
     },
     "execution_count": 30,
     "metadata": {},
     "output_type": "execute_result"
    }
   ],
   "source": [
    "nearly_zeros()"
   ]
  },
  {
   "cell_type": "markdown",
   "metadata": {},
   "source": [
    "### Monte Carlo $\\pi$ estimation"
   ]
  },
  {
   "cell_type": "code",
   "execution_count": 31,
   "metadata": {
    "collapsed": false
   },
   "outputs": [],
   "source": [
    "m = 100000 # number of trials\n",
    "rv_u = srng.uniform((m,))\n",
    "r2 = rv_u**2 + rv_u**2\n",
    "pi_est = function([], 4*T.mean(r2 < 1))"
   ]
  },
  {
   "cell_type": "code",
   "execution_count": 32,
   "metadata": {
    "collapsed": false
   },
   "outputs": [
    {
     "data": {
      "text/plain": [
       "array(2.82804)"
      ]
     },
     "execution_count": 32,
     "metadata": {},
     "output_type": "execute_result"
    }
   ],
   "source": [
    "pi_est()"
   ]
  },
  {
   "cell_type": "markdown",
   "metadata": {},
   "source": [
    "Would expect the above to work from the tutorial. Instead, seem to need:"
   ]
  },
  {
   "cell_type": "code",
   "execution_count": 33,
   "metadata": {
    "collapsed": false
   },
   "outputs": [],
   "source": [
    "m = 1000000 # number of trials\n",
    "rv_u1 = srng.uniform((m,))\n",
    "rv_u2 = srng.uniform((m,))\n",
    "r2 = rv_u1**2 + rv_u2**2\n",
    "pi_est = function([], 4*T.mean(r2 < 1))"
   ]
  },
  {
   "cell_type": "code",
   "execution_count": 34,
   "metadata": {
    "collapsed": false
   },
   "outputs": [
    {
     "data": {
      "text/plain": [
       "array(3.1452199999999997)"
      ]
     },
     "execution_count": 34,
     "metadata": {},
     "output_type": "execute_result"
    }
   ],
   "source": [
    "pi_est()"
   ]
  },
  {
   "cell_type": "markdown",
   "metadata": {},
   "source": [
    "### Logistic regression"
   ]
  },
  {
   "cell_type": "code",
   "execution_count": 35,
   "metadata": {
    "collapsed": true
   },
   "outputs": [],
   "source": [
    "from sklearn.datasets import *\n",
    "from sklearn.cross_validation import train_test_split"
   ]
  },
  {
   "cell_type": "code",
   "execution_count": 36,
   "metadata": {
    "collapsed": false
   },
   "outputs": [],
   "source": [
    "data = load_iris()\n",
    "Xtrain, Xtest, ytrain, ytest = (\n",
    "    train_test_split(data['data'], np.where(data['target'] == 0, 0, 1)))"
   ]
  },
  {
   "cell_type": "code",
   "execution_count": 37,
   "metadata": {
    "collapsed": true
   },
   "outputs": [],
   "source": [
    "n, d = Xtrain.shape"
   ]
  },
  {
   "cell_type": "code",
   "execution_count": 38,
   "metadata": {
    "collapsed": true
   },
   "outputs": [],
   "source": [
    "alpha = 1e-3 # learning rate\n",
    "lmbd = 0.05  # regularization"
   ]
  },
  {
   "cell_type": "code",
   "execution_count": 39,
   "metadata": {
    "collapsed": false
   },
   "outputs": [],
   "source": [
    "X = T.matrix('X')\n",
    "y = T.vector('y')\n",
    "w = shared(np.random.randn(d), name='w')\n",
    "b = shared(0., name='b')\n",
    "\n",
    "p = 1 / (1 + T.exp(-T.dot(X, w) - b))\n",
    "pred = p > 0.5\n",
    "xent = -y * T.log(p) - (1-y) * T.log(1-p) # cross-entropy loss\n",
    "cost = xent.mean() + lmbd * (w**2).sum()\n",
    "gw, gb = T.grad(cost, [w, b])\n",
    "\n",
    "train = function(inputs=[X, y],\n",
    "                 outputs=[pred, xent],\n",
    "                 updates=[(w, w - alpha*gw), \n",
    "                          (b, b - alpha*gb)])\n",
    "\n",
    "predict = function(inputs=[X], outputs=pred)"
   ]
  },
  {
   "cell_type": "code",
   "execution_count": 40,
   "metadata": {
    "collapsed": false
   },
   "outputs": [
    {
     "data": {
      "text/plain": [
       "0.28947368421052633"
      ]
     },
     "execution_count": 40,
     "metadata": {},
     "output_type": "execute_result"
    }
   ],
   "source": [
    "training_steps = 100\n",
    "\n",
    "for i in range(training_steps):\n",
    "    pred, err = train(Xtrain, ytrain)\n",
    "    \n",
    "(predict(Xtest) == ytest).mean()"
   ]
  },
  {
   "cell_type": "markdown",
   "metadata": {},
   "source": [
    "### Multi-class (softmax) logistic regression\n",
    "\n",
    "Generalized logisitic regression with hypothesis\n",
    "\n",
    "$$\n",
    "h_{\\Theta}(x) \n",
    "= \\left( \\sum_{i=1}^k e^{\\theta_i^T x} \\right)^{-1}\n",
    "\\begin{bmatrix}\n",
    "e^{\\theta_1^T x} \\\\\n",
    "e^{\\theta_2^T x} \\\\\n",
    "\\vdots \\\\\n",
    "e^{\\theta_k^T x}\n",
    "\\end{bmatrix}\n",
    "= \\mathrm{softmax} (\\Theta^{T} x)\n",
    "$$"
   ]
  },
  {
   "cell_type": "code",
   "execution_count": 41,
   "metadata": {
    "collapsed": false
   },
   "outputs": [],
   "source": [
    "u = T.dvector('u')\n",
    "f = function([u], T.nnet.softmax(u))"
   ]
  },
  {
   "cell_type": "code",
   "execution_count": 42,
   "metadata": {
    "collapsed": false
   },
   "outputs": [
    {
     "data": {
      "text/plain": [
       "array([[ 0.04201007,  0.1141952 ,  0.84379473]])"
      ]
     },
     "execution_count": 42,
     "metadata": {},
     "output_type": "execute_result"
    }
   ],
   "source": [
    "a = np.array([1.,2,4])\n",
    "f(a)"
   ]
  },
  {
   "cell_type": "code",
   "execution_count": 43,
   "metadata": {
    "collapsed": false
   },
   "outputs": [
    {
     "data": {
      "text/plain": [
       "array([ 0.14285714,  0.28571429,  0.57142857])"
      ]
     },
     "execution_count": 43,
     "metadata": {},
     "output_type": "execute_result"
    }
   ],
   "source": [
    "a/a.sum()"
   ]
  },
  {
   "cell_type": "code",
   "execution_count": 44,
   "metadata": {
    "collapsed": true
   },
   "outputs": [],
   "source": [
    "from numpy.random import randn"
   ]
  },
  {
   "cell_type": "code",
   "execution_count": 45,
   "metadata": {
    "collapsed": false
   },
   "outputs": [],
   "source": [
    "# turn off optimizer for more helpful debug info\n",
    "from theano import config\n",
    "config.optimizer = 'None'\n",
    "config.exception_verbosity = 'high'"
   ]
  },
  {
   "cell_type": "code",
   "execution_count": 46,
   "metadata": {
    "collapsed": false
   },
   "outputs": [],
   "source": [
    "class LogisticRegression:\n",
    "    \n",
    "    def __init__(self, lrate=1e-3, n_iter=1000):\n",
    "        self.lrate = lrate\n",
    "        self.n_iter = n_iter\n",
    "        \n",
    "    def fit(self, Xd, yd, k):\n",
    "        X = T.dmatrix('X')\n",
    "        y = T.ivector('y')\n",
    "        N, d = Xd.shape\n",
    "        \n",
    "        self.W = shared(randn(d, k), 'W') # weights\n",
    "        self.b = shared(0., 'b') # bias\n",
    "        \n",
    "        # N x k matrix of hypotheses\n",
    "        self.H = T.nnet.softmax(T.dot(X, self.W) + self.b)\n",
    "        \n",
    "        # N x 1 vector of predictions (predict class w/ highest prob.)\n",
    "        y_pred = T.argmax(self.H, axis=1)\n",
    "        \n",
    "        # cost function (log-likelihood loss)\n",
    "        cost = -T.mean(T.log(self.H)[T.arange(y.shape[0]), y])\n",
    "        \n",
    "        # gradient of cost function\n",
    "        gW, gb = T.grad(cost, [self.W, self.b])\n",
    "        \n",
    "        # gradient descent updates\n",
    "        updates = [(self.W, self.W - self.lrate*gW),\n",
    "                   (self.b, self.b - self.lrate*gb)]\n",
    "        \n",
    "        self.train = function(\n",
    "            inputs=[X, y],\n",
    "            outputs=cost,\n",
    "            updates=updates,\n",
    "            allow_input_downcast=True)\n",
    "        \n",
    "        self.predict_proba = function(\n",
    "            inputs=[X],\n",
    "            outputs=self.H,\n",
    "            allow_input_downcast=True)\n",
    "\n",
    "        self.predict = function(\n",
    "            inputs=[X], \n",
    "            outputs=y_pred,\n",
    "            allow_input_downcast=True)\n",
    "        \n",
    "        for i in range(self.n_iter):\n",
    "            self.train(Xd, yd)"
   ]
  },
  {
   "cell_type": "markdown",
   "metadata": {},
   "source": [
    "Test on digit classification."
   ]
  },
  {
   "cell_type": "code",
   "execution_count": 47,
   "metadata": {
    "collapsed": true
   },
   "outputs": [],
   "source": [
    "data = load_digits()"
   ]
  },
  {
   "cell_type": "code",
   "execution_count": 48,
   "metadata": {
    "collapsed": false
   },
   "outputs": [],
   "source": [
    "Xtrain, Xtest, ytrain, ytest = (\n",
    "    train_test_split(data['data'], data['target']))"
   ]
  },
  {
   "cell_type": "code",
   "execution_count": 49,
   "metadata": {
    "collapsed": false
   },
   "outputs": [
    {
     "data": {
      "text/plain": [
       "(1347, 64)"
      ]
     },
     "execution_count": 49,
     "metadata": {},
     "output_type": "execute_result"
    }
   ],
   "source": [
    "Xtrain.shape"
   ]
  },
  {
   "cell_type": "code",
   "execution_count": 50,
   "metadata": {
    "collapsed": false
   },
   "outputs": [
    {
     "data": {
      "text/plain": [
       "(1347,)"
      ]
     },
     "execution_count": 50,
     "metadata": {},
     "output_type": "execute_result"
    }
   ],
   "source": [
    "ytrain.shape"
   ]
  },
  {
   "cell_type": "code",
   "execution_count": 51,
   "metadata": {
    "collapsed": false
   },
   "outputs": [
    {
     "data": {
      "text/plain": [
       "0.9044444444444445"
      ]
     },
     "execution_count": 51,
     "metadata": {},
     "output_type": "execute_result"
    }
   ],
   "source": [
    "clf = LogisticRegression(lrate=0.01, n_iter=1000)\n",
    "clf.fit(Xtrain, ytrain, 10)\n",
    "(clf.predict(Xtest) == ytest).mean()"
   ]
  },
  {
   "cell_type": "code",
   "execution_count": 52,
   "metadata": {
    "collapsed": false
   },
   "outputs": [
    {
     "name": "stderr",
     "output_type": "stream",
     "text": [
      "/usr/local/lib/python2.7/site-packages/matplotlib/__init__.py:872: UserWarning: axes.color_cycle is deprecated and replaced with axes.prop_cycle; please use the latter.\n",
      "  warnings.warn(self.msg_depr % (key, alt_key))\n"
     ]
    }
   ],
   "source": [
    "import matplotlib.pyplot as plt\n",
    "import seaborn as sns\n",
    "from sklearn.metrics import confusion_matrix"
   ]
  },
  {
   "cell_type": "code",
   "execution_count": 53,
   "metadata": {
    "collapsed": false
   },
   "outputs": [
    {
     "data": {
      "image/png": "[encoded data removed]",
      "text/plain": [
       "<matplotlib.figure.Figure at 0x11496c710>"
      ]
     },
     "metadata": {
      "image/png": {
       "height": 352,
       "width": 458
      }
     },
     "output_type": "display_data"
    }
   ],
   "source": [
    "sns.heatmap(confusion_matrix(ytest, clf.predict(Xtest)))\n",
    "plt.xlabel('predicted')\n",
    "plt.ylabel('actual');"
   ]
  },
  {
   "cell_type": "markdown",
   "metadata": {},
   "source": [
    "### Single hidden layer\n",
    "\n",
    "3-layer (input, hidden, output) network with complete connectivity between layers. Example from Andrew Ng's ML course on Coursera.\n",
    "\n",
    "\\begin{align*}\n",
    "a^{(1)} &= x \\\\\n",
    "z^{(2)} = \\Theta^{(1)} a^{(1)} \\quad\n",
    "a^{(2)} &= g(z^{(2)}) \\\\\n",
    "z^{(3)} = \\Theta^{(2)} a^{(2)} \\quad\n",
    "a^{(3)} &= g(z^{(3)}) = h_{\\theta}(x)\n",
    "\\end{align*}\n"
   ]
  },
  {
   "cell_type": "code",
   "execution_count": 54,
   "metadata": {
    "collapsed": false
   },
   "outputs": [],
   "source": [
    "from sklearn.preprocessing import OneHotEncoder\n",
    "\n",
    "data = load_digits()\n",
    "\n",
    "X, y = data['data'], data['target']\n",
    "Xtrain, Xtest, ytrain, ytest = train_test_split(X, y)\n",
    "ytrain = OneHotEncoder(sparse=False).fit_transform(ytrain.reshape(-1,1))"
   ]
  },
  {
   "cell_type": "code",
   "execution_count": 55,
   "metadata": {
    "collapsed": true
   },
   "outputs": [],
   "source": [
    "N, d = Xtrain.shape\n",
    "h = 25 # number of hidden units\n",
    "k = ytrain.shape[1] # number of classes\n",
    "alpha = 0.01 # regularization coefficient\n",
    "lrate = 0.1 # learning rate\n",
    "sigma = 0.1 # spread of random initial weights"
   ]
  },
  {
   "cell_type": "code",
   "execution_count": 56,
   "metadata": {
    "collapsed": false
   },
   "outputs": [],
   "source": [
    "X = T.dmatrix('X')\n",
    "Y = T.imatrix('y')\n",
    "\n",
    "# randomly initialize biases and weights\n",
    "b1 = shared(sigma*randn(), 'b1')\n",
    "b2 = shared(sigma*randn(), 'b2')\n",
    "Theta1 = shared(sigma*randn(d, h), 'Theta1')\n",
    "Theta2 = shared(sigma*randn(h, k), 'Theta2')\n",
    "\n",
    "params = [Theta1, b1, Theta2, b2]\n",
    "\n",
    "g = lambda z: 1/(1 + T.exp(-z)) #  logistic activation function\n",
    "\n",
    "A1 = X\n",
    "A2 = g(T.dot(A1, Theta1) + b1) # (N, d) x (d, h) -> (N, h)\n",
    "A3 = g(T.dot(A2, Theta2) + b2) # (N, h) x (h, k) -> (N, k)\n",
    "H = A3\n",
    "\n",
    "# L2 regularization penalty\n",
    "L2reg = (Theta1**2).sum() + (Theta2**2).sum()\n",
    "\n",
    "cost = -T.mean(Y*T.log(H) + (1-Y)*T.log(1-H)) + alpha*L2reg\n",
    "\n",
    "gradients = T.grad(cost, params)\n",
    "updates = [(p, p - lrate*gp) for p, gp in zip(params, gradients)]\n",
    "\n",
    "train = function([X, Y], cost, \n",
    "                 updates=updates,\n",
    "                 allow_input_downcast=True)\n",
    "\n",
    "y_pred = T.argmax(H, axis=1)\n",
    "predict = function([X], y_pred, allow_input_downcast=True)"
   ]
  },
  {
   "cell_type": "code",
   "execution_count": 57,
   "metadata": {
    "collapsed": false
   },
   "outputs": [
    {
     "name": "stdout",
     "output_type": "stream",
     "text": [
      "0.867399776223\n",
      "0.446501110257\n",
      "0.398836178706\n",
      "0.367673632822\n",
      "0.346744515289\n",
      "0.33243270078\n",
      "0.322231508237\n",
      "0.315004257515\n",
      "0.309751702433\n",
      "0.305872656974\n"
     ]
    }
   ],
   "source": [
    "for i in range(1000):\n",
    "    cost = train(Xtrain, ytrain)\n",
    "    if i % 100 == 0:\n",
    "        print cost"
   ]
  },
  {
   "cell_type": "code",
   "execution_count": 58,
   "metadata": {
    "collapsed": false
   },
   "outputs": [
    {
     "data": {
      "text/plain": [
       "0.80666666666666664"
      ]
     },
     "execution_count": 58,
     "metadata": {},
     "output_type": "execute_result"
    }
   ],
   "source": [
    "(predict(Xtest) == ytest).mean()"
   ]
  },
  {
   "cell_type": "code",
   "execution_count": 59,
   "metadata": {
    "collapsed": false
   },
   "outputs": [
    {
     "data": {
      "image/png": "[encoded data removed]",
      "text/plain": [
       "<matplotlib.figure.Figure at 0x117149510>"
      ]
     },
     "metadata": {
      "image/png": {
       "height": 357,
       "width": 458
      }
     },
     "output_type": "display_data"
    }
   ],
   "source": [
    "sns.heatmap(confusion_matrix(ytest, predict(Xtest)))\n",
    "plt.xlabel('predicted')\n",
    "plt.ylabel('actual');"
   ]
  }
 ],
 "metadata": {
  "kernelspec": {
   "display_name": "Python 2",
   "language": "python",
   "name": "python2"
  },
  "language_info": {
   "codemirror_mode": {
    "name": "ipython",
    "version": 2
   },
   "file_extension": ".py",
   "mimetype": "text/x-python",
   "name": "python",
   "nbconvert_exporter": "python",
   "pygments_lexer": "ipython2",
   "version": "2.7.10"
  }
 },
 "nbformat": 4,
 "nbformat_minor": 0
}
